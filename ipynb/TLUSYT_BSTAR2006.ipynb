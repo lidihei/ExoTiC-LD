{
 "cells": [
  {
   "cell_type": "markdown",
   "metadata": {},
   "source": [
    "Calculate limb darkening for TLUSTY BSTAR2006 model"
   ]
  },
  {
   "cell_type": "code",
   "execution_count": 1,
   "metadata": {},
   "outputs": [],
   "source": [
    "import numpy as np\n",
    "import matplotlib.pyplot as plt\n",
    "from astropy import constants, units\n",
    "plt.style.use('lijiaonature')"
   ]
  },
  {
   "cell_type": "code",
   "execution_count": 2,
   "metadata": {},
   "outputs": [],
   "source": [
    "M_H_grid = np.array([0.5, 1, 2]) # the MH is in units of Zsun\n",
    "Teff_grid = np.array([15000, 16000])\n",
    "logg_grid = np.array([3.5, 3.75, 4.0])"
   ]
  },
  {
   "cell_type": "code",
   "execution_count": 3,
   "metadata": {},
   "outputs": [],
   "source": [
    "from exotic_ld import StellarLimbDarkening\n",
    "from exotic_ld import ld_laws"
   ]
  },
  {
   "cell_type": "code",
   "execution_count": 94,
   "metadata": {},
   "outputs": [],
   "source": [
    "# Path to the downloaded data.\n",
    "ld_data_path = '/nfsdata/users/lijiao/exotic_ld_data/'\n",
    "\n",
    "\n",
    "# Metallicty [Zsun].\n",
    "M_H = 1\n",
    "\n",
    "# Effective temperature [K].\n",
    "Teff = 15000\n",
    "\n",
    "# Surface gravity [dex].\n",
    "logg = 4\n"
   ]
  },
  {
   "cell_type": "code",
   "execution_count": 95,
   "metadata": {},
   "outputs": [],
   "source": [
    "# Start and end of wavelength interval [angstroms].\n",
    "wavelength_range = [1100., 15000.]\n",
    "\n",
    "# Instrument mode.\n",
    "mode = 'TESS'"
   ]
  },
  {
   "cell_type": "code",
   "execution_count": 96,
   "metadata": {},
   "outputs": [],
   "source": [
    "file_name = '/nfsdata/users/lijiao/exotic_ld_data/BSTAR2006v2/MH1.0/teff15000/logg4.0/BSTAR2006v2_spectra.dat'\n",
    "mus = np.loadtxt(file_name, skiprows=1, max_rows=1)\n",
    "stellar_data = np.loadtxt(file_name, skiprows=2)\n",
    "\n",
    "custom_wavelengths = stellar_data[:, 0]\n",
    "custom_stellar_model =  stellar_data[:, 1:]\n",
    "\n",
    "hv = constants.h*constants.c/(custom_wavelengths*units.AA)\n",
    "hv = hv.to('erg').value\n",
    "\n",
    "\n",
    "### erg/s/cm/A/strerad --> n_phot/s/cm2/s/A/sterad\n",
    "for _i in np.arange(0, 20):\n",
    "    custom_stellar_model[:, _i] =custom_stellar_model[:, _i]/hv"
   ]
  },
  {
   "cell_type": "markdown",
   "metadata": {},
   "source": [
    "# - calculate $I(\\mu)$ from flux with unit of erg/s/cm2/s/A/sterad"
   ]
  },
  {
   "cell_type": "code",
   "execution_count": 97,
   "metadata": {},
   "outputs": [
    {
     "name": "stdout",
     "output_type": "stream",
     "text": [
      "(0.5566796029136055, -0.15117895592710498, 0.06168705447227217, -0.01566107712533915)\n"
     ]
    }
   ],
   "source": [
    "# Stellar models grid.\n",
    "\n",
    "ld_model = 'BSTAR2006v2'\n",
    "\n",
    "sld_erg = StellarLimbDarkening(M_H, Teff, logg, ld_model, ld_data_path,\n",
    "                          M_H_grid=M_H_grid,\n",
    "                          Teff_grid = Teff_grid,\n",
    "                          logg_grid = logg_grid,\n",
    "                          )\n",
    "\n",
    "coefs_erg = sld_erg.compute_4_parameter_non_linear_ld_coeffs(wavelength_range, mode)\n",
    "print(coefs_erg)"
   ]
  },
  {
   "cell_type": "markdown",
   "metadata": {},
   "source": [
    "# -calculate $I(\\mu)$ from flux with unit of n_phot/s/cm2/s/A/sterad of synsepc spectrum"
   ]
  },
  {
   "cell_type": "code",
   "execution_count": 98,
   "metadata": {},
   "outputs": [
    {
     "name": "stdout",
     "output_type": "stream",
     "text": [
      "(0.5620709470234887, -0.14528870683205783, 0.05615175678767099, -0.014002276472561257)\n"
     ]
    }
   ],
   "source": [
    "ld_model = 'BSTAR2006v2_nphot'\n",
    "\n",
    "sld_nphot = StellarLimbDarkening(M_H, Teff, logg, ld_model, ld_data_path,\n",
    "                          M_H_grid=M_H_grid,\n",
    "                          Teff_grid = Teff_grid,\n",
    "                          logg_grid = logg_grid,\n",
    "                          )\n",
    "\n",
    "coefs_nphot= sld_nphot.compute_4_parameter_non_linear_ld_coeffs(wavelength_range, mode)\n",
    "print(coefs_nphot)"
   ]
  },
  {
   "cell_type": "markdown",
   "metadata": {},
   "source": [
    "# - calculate $I(\\mu)$ from flux with unit of n_phot/s/cm2/s/A/sterad of broadn synsepc spectrum (R=2000)"
   ]
  },
  {
   "cell_type": "code",
   "execution_count": 99,
   "metadata": {},
   "outputs": [
    {
     "name": "stdout",
     "output_type": "stream",
     "text": [
      "(0.5512422255214441, -0.15743411728329323, 0.06739246764399903, -0.017347480815058554)\n"
     ]
    }
   ],
   "source": [
    "sld_nphot1 = StellarLimbDarkening(M_H=M_H, Teff=Teff, logg=logg, \n",
    "                                 custom_wavelengths=custom_wavelengths, \n",
    "                                 custom_mus=mus, \n",
    "                                 custom_stellar_model=custom_stellar_model,\n",
    "                                 ld_model='custom', ld_data_path=ld_data_path)\n",
    "\n",
    "coefs_nphot1 = sld_nphot1.compute_4_parameter_non_linear_ld_coeffs(wavelength_range, mode)\n",
    "print(coefs_nphot1)"
   ]
  },
  {
   "cell_type": "code",
   "execution_count": 100,
   "metadata": {},
   "outputs": [],
   "source": [
    "cosis = np.linspace(0, 1, 60)"
   ]
  },
  {
   "cell_type": "code",
   "execution_count": 103,
   "metadata": {},
   "outputs": [
    {
     "data": {
      "text/plain": [
       "Text(0, 0.5, '$I(\\\\mu)/I(0)$')"
      ]
     },
     "execution_count": 103,
     "metadata": {},
     "output_type": "execute_result"
    },
    {
     "data": {
      "image/png": "[encoded data removed]",
      "text/plain": [
       "<Figure size 504x360 with 1 Axes>"
      ]
     },
     "metadata": {
      "needs_background": "light"
     },
     "output_type": "display_data"
    }
   ],
   "source": [
    "fig, ax = plt.subplots(1,1, figsize=(7,5))\n",
    "\n",
    "plt.scatter(sld_nphot.mus, sld_nphot.I_mu, label='n/s/cm2/A', color='b')\n",
    "plt.scatter(sld_erg.mus, sld_erg.I_mu, label='erg/s/cm2/A')\n",
    "\n",
    "plt.scatter(sld_nphot1.mus, sld_nphot1.I_mu, label='n/s/cm2/A from low resolution', color='r', marker='+')\n",
    "\n",
    "\n",
    "plt.plot(cosis, ld_laws.nonlinear_4param_ld_law(cosis, *coefs_nphot), color='b')\n",
    "\n",
    "coefs_claret = [0.8064, -0.8792, 0.8042, -0.2820]\n",
    "plt.plot(cosis, ld_laws.nonlinear_4param_ld_law(cosis, *coefs_claret), label='Claret')\n",
    "plt.legend(fontsize=10)\n",
    "plt.xlabel(r'$\\cos i$')\n",
    "plt.ylabel(r'$I(\\mu)/I(0)$')"
   ]
  },
  {
   "cell_type": "code",
   "execution_count": null,
   "metadata": {},
   "outputs": [],
   "source": []
  }
 ],
 "metadata": {
  "kernelspec": {
   "display_name": "Python 3",
   "language": "python",
   "name": "python3"
  },
  "language_info": {
   "codemirror_mode": {
    "name": "ipython",
    "version": 3
   },
   "file_extension": ".py",
   "mimetype": "text/x-python",
   "name": "python",
   "nbconvert_exporter": "python",
   "pygments_lexer": "ipython3",
   "version": "3.7.6"
  }
 },
 "nbformat": 4,
 "nbformat_minor": 4
}
